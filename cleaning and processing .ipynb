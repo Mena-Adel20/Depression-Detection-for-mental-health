{
 "cells": [
  {
   "cell_type": "code",
   "execution_count": 2,
   "id": "37373a13",
   "metadata": {},
   "outputs": [
    {
     "name": "stderr",
     "output_type": "stream",
     "text": [
      "[nltk_data] Downloading package stopwords to\n",
      "[nltk_data]     C:\\Users\\otaku7\\AppData\\Roaming\\nltk_data...\n",
      "[nltk_data]   Package stopwords is already up-to-date!\n",
      "[nltk_data] Downloading package punkt to\n",
      "[nltk_data]     C:\\Users\\otaku7\\AppData\\Roaming\\nltk_data...\n",
      "[nltk_data]   Package punkt is already up-to-date!\n",
      "[nltk_data] Downloading package wordnet to\n",
      "[nltk_data]     C:\\Users\\otaku7\\AppData\\Roaming\\nltk_data...\n",
      "[nltk_data]   Package wordnet is already up-to-date!\n",
      "[nltk_data] Downloading package averaged_perceptron_tagger to\n",
      "[nltk_data]     C:\\Users\\otaku7\\AppData\\Roaming\\nltk_data...\n",
      "[nltk_data]   Package averaged_perceptron_tagger is already up-to-\n",
      "[nltk_data]       date!\n"
     ]
    }
   ],
   "source": [
    "## Import required libraries\n",
    "\n",
    "## for data\n",
    "import numpy as np\n",
    "import pandas as pd\n",
    "\n",
    "## for plotting\n",
    "import matplotlib.pyplot as plt\n",
    "import seaborn as sns\n",
    "\n",
    "## for processing\n",
    "import nltk\n",
    "import re\n",
    "import ftfy\n",
    "from nltk.stem import WordNetLemmatizer \n",
    "from nltk.corpus import stopwords\n",
    "nltk.download('stopwords')\n",
    "nltk.download('punkt')\n",
    "nltk.download('wordnet')\n",
    "nltk.download('averaged_perceptron_tagger')\n",
    "\n",
    "## WordCloud - Python linrary for creating image wordclouds\n",
    "from wordcloud import WordCloud\n"
   ]
  },
  {
   "cell_type": "code",
   "execution_count": 3,
   "id": "dccd3a54",
   "metadata": {},
   "outputs": [],
   "source": [
    "dep_tweets_df = pd.read_csv(r\"C:\\Users\\otaku7\\Desktop\\GP\\depression\\data\\depressive_tweets.csv\")\n",
    "tweets_df = pd.read_csv(r\"C:\\Users\\otaku7\\Desktop\\GP\\depression\\data\\Sentiment Analysis Dataset 2.csv\", \n",
    "                               encoding = \"ISO-8859-1\", usecols = range(0,4), nrows = 40000)"
   ]
  },
  {
   "cell_type": "code",
   "execution_count": 4,
   "id": "c267d5ab",
   "metadata": {},
   "outputs": [
    {
     "data": {
      "text/html": [
       "<div>\n",
       "<style scoped>\n",
       "    .dataframe tbody tr th:only-of-type {\n",
       "        vertical-align: middle;\n",
       "    }\n",
       "\n",
       "    .dataframe tbody tr th {\n",
       "        vertical-align: top;\n",
       "    }\n",
       "\n",
       "    .dataframe thead th {\n",
       "        text-align: right;\n",
       "    }\n",
       "</style>\n",
       "<table border=\"1\" class=\"dataframe\">\n",
       "  <thead>\n",
       "    <tr style=\"text-align: right;\">\n",
       "      <th></th>\n",
       "      <th>Unnamed: 0</th>\n",
       "      <th>tweet.id</th>\n",
       "      <th>created_at</th>\n",
       "      <th>text</th>\n",
       "      <th>location</th>\n",
       "      <th>retweet</th>\n",
       "      <th>favorite</th>\n",
       "    </tr>\n",
       "  </thead>\n",
       "  <tbody>\n",
       "    <tr>\n",
       "      <th>0</th>\n",
       "      <td>0</td>\n",
       "      <td>1447537898572574730</td>\n",
       "      <td>2021-10-11 12:21:43</td>\n",
       "      <td>Open discussion. Between the Transfer Portal a...</td>\n",
       "      <td>Cheyenne Wyoming</td>\n",
       "      <td>0</td>\n",
       "      <td>0</td>\n",
       "    </tr>\n",
       "    <tr>\n",
       "      <th>1</th>\n",
       "      <td>1</td>\n",
       "      <td>1447540582490988553</td>\n",
       "      <td>2021-10-11 12:32:23</td>\n",
       "      <td>Plenty of things are changing in my life and t...</td>\n",
       "      <td>NaN</td>\n",
       "      <td>0</td>\n",
       "      <td>0</td>\n",
       "    </tr>\n",
       "    <tr>\n",
       "      <th>2</th>\n",
       "      <td>2</td>\n",
       "      <td>1447807717859491842</td>\n",
       "      <td>2021-10-12 06:13:53</td>\n",
       "      <td>I feel a little hopeless. Anyone else? #hopele...</td>\n",
       "      <td>NaN</td>\n",
       "      <td>0</td>\n",
       "      <td>0</td>\n",
       "    </tr>\n",
       "    <tr>\n",
       "      <th>3</th>\n",
       "      <td>3</td>\n",
       "      <td>1448076026219692033</td>\n",
       "      <td>2021-10-13 00:00:03</td>\n",
       "      <td>Which is more healthy? Hope, or hopelessness? ...</td>\n",
       "      <td>Denver, CO</td>\n",
       "      <td>0</td>\n",
       "      <td>0</td>\n",
       "    </tr>\n",
       "    <tr>\n",
       "      <th>4</th>\n",
       "      <td>4</td>\n",
       "      <td>1448382047375040513</td>\n",
       "      <td>2021-10-13 20:16:04</td>\n",
       "      <td>So someone tell me how do I get over #HOPELESS...</td>\n",
       "      <td>Portland Or .</td>\n",
       "      <td>0</td>\n",
       "      <td>2</td>\n",
       "    </tr>\n",
       "    <tr>\n",
       "      <th>...</th>\n",
       "      <td>...</td>\n",
       "      <td>...</td>\n",
       "      <td>...</td>\n",
       "      <td>...</td>\n",
       "      <td>...</td>\n",
       "      <td>...</td>\n",
       "      <td>...</td>\n",
       "    </tr>\n",
       "    <tr>\n",
       "      <th>24142</th>\n",
       "      <td>24142</td>\n",
       "      <td>1459521498842992642</td>\n",
       "      <td>2021-11-13 14:00:16</td>\n",
       "      <td>Just got banned from a server F #sad</td>\n",
       "      <td>Jakarta Capital Region</td>\n",
       "      <td>0</td>\n",
       "      <td>1</td>\n",
       "    </tr>\n",
       "    <tr>\n",
       "      <th>24143</th>\n",
       "      <td>24143</td>\n",
       "      <td>1459521611997003777</td>\n",
       "      <td>2021-11-13 14:00:43</td>\n",
       "      <td>I literally cried during my exam and the cam i...</td>\n",
       "      <td>بيت أمك</td>\n",
       "      <td>0</td>\n",
       "      <td>0</td>\n",
       "    </tr>\n",
       "    <tr>\n",
       "      <th>24144</th>\n",
       "      <td>24144</td>\n",
       "      <td>1459524263946326017</td>\n",
       "      <td>2021-11-13 14:11:15</td>\n",
       "      <td>No one can be happy with a guy like me. That's...</td>\n",
       "      <td>Varanasi, Uttar Pradesh, India</td>\n",
       "      <td>0</td>\n",
       "      <td>0</td>\n",
       "    </tr>\n",
       "    <tr>\n",
       "      <th>24145</th>\n",
       "      <td>24145</td>\n",
       "      <td>1459530315437785095</td>\n",
       "      <td>2021-11-13 14:35:18</td>\n",
       "      <td>arrived at my house but Am I Home? #deep #sad ...</td>\n",
       "      <td>they19sea</td>\n",
       "      <td>1</td>\n",
       "      <td>3</td>\n",
       "    </tr>\n",
       "    <tr>\n",
       "      <th>24146</th>\n",
       "      <td>24146</td>\n",
       "      <td>1459530643591905284</td>\n",
       "      <td>2021-11-13 14:36:36</td>\n",
       "      <td>Being spoken down to rn at @starbucks and reme...</td>\n",
       "      <td>Night Vale, USA</td>\n",
       "      <td>0</td>\n",
       "      <td>0</td>\n",
       "    </tr>\n",
       "  </tbody>\n",
       "</table>\n",
       "<p>24147 rows × 7 columns</p>\n",
       "</div>"
      ],
      "text/plain": [
       "       Unnamed: 0             tweet.id           created_at  \\\n",
       "0               0  1447537898572574730  2021-10-11 12:21:43   \n",
       "1               1  1447540582490988553  2021-10-11 12:32:23   \n",
       "2               2  1447807717859491842  2021-10-12 06:13:53   \n",
       "3               3  1448076026219692033  2021-10-13 00:00:03   \n",
       "4               4  1448382047375040513  2021-10-13 20:16:04   \n",
       "...           ...                  ...                  ...   \n",
       "24142       24142  1459521498842992642  2021-11-13 14:00:16   \n",
       "24143       24143  1459521611997003777  2021-11-13 14:00:43   \n",
       "24144       24144  1459524263946326017  2021-11-13 14:11:15   \n",
       "24145       24145  1459530315437785095  2021-11-13 14:35:18   \n",
       "24146       24146  1459530643591905284  2021-11-13 14:36:36   \n",
       "\n",
       "                                                    text  \\\n",
       "0      Open discussion. Between the Transfer Portal a...   \n",
       "1      Plenty of things are changing in my life and t...   \n",
       "2      I feel a little hopeless. Anyone else? #hopele...   \n",
       "3      Which is more healthy? Hope, or hopelessness? ...   \n",
       "4      So someone tell me how do I get over #HOPELESS...   \n",
       "...                                                  ...   \n",
       "24142               Just got banned from a server F #sad   \n",
       "24143  I literally cried during my exam and the cam i...   \n",
       "24144  No one can be happy with a guy like me. That's...   \n",
       "24145  arrived at my house but Am I Home? #deep #sad ...   \n",
       "24146  Being spoken down to rn at @starbucks and reme...   \n",
       "\n",
       "                             location  retweet  favorite  \n",
       "0                    Cheyenne Wyoming        0         0  \n",
       "1                                 NaN        0         0  \n",
       "2                                 NaN        0         0  \n",
       "3                          Denver, CO        0         0  \n",
       "4                      Portland Or .         0         2  \n",
       "...                               ...      ...       ...  \n",
       "24142          Jakarta Capital Region        0         1  \n",
       "24143                         بيت أمك        0         0  \n",
       "24144  Varanasi, Uttar Pradesh, India        0         0  \n",
       "24145                       they19sea        1         3  \n",
       "24146                 Night Vale, USA        0         0  \n",
       "\n",
       "[24147 rows x 7 columns]"
      ]
     },
     "execution_count": 4,
     "metadata": {},
     "output_type": "execute_result"
    }
   ],
   "source": [
    "dep_tweets_df"
   ]
  },
  {
   "cell_type": "code",
   "execution_count": 5,
   "id": "969a24ab",
   "metadata": {},
   "outputs": [
    {
     "data": {
      "text/html": [
       "<div>\n",
       "<style scoped>\n",
       "    .dataframe tbody tr th:only-of-type {\n",
       "        vertical-align: middle;\n",
       "    }\n",
       "\n",
       "    .dataframe tbody tr th {\n",
       "        vertical-align: top;\n",
       "    }\n",
       "\n",
       "    .dataframe thead th {\n",
       "        text-align: right;\n",
       "    }\n",
       "</style>\n",
       "<table border=\"1\" class=\"dataframe\">\n",
       "  <thead>\n",
       "    <tr style=\"text-align: right;\">\n",
       "      <th></th>\n",
       "      <th>ï»¿ItemID</th>\n",
       "      <th>Sentiment</th>\n",
       "      <th>SentimentSource</th>\n",
       "      <th>SentimentText</th>\n",
       "    </tr>\n",
       "  </thead>\n",
       "  <tbody>\n",
       "    <tr>\n",
       "      <th>0</th>\n",
       "      <td>1</td>\n",
       "      <td>0</td>\n",
       "      <td>Sentiment140</td>\n",
       "      <td>is so sad for my APL frie...</td>\n",
       "    </tr>\n",
       "    <tr>\n",
       "      <th>1</th>\n",
       "      <td>2</td>\n",
       "      <td>0</td>\n",
       "      <td>Sentiment140</td>\n",
       "      <td>I missed the New Moon trail...</td>\n",
       "    </tr>\n",
       "    <tr>\n",
       "      <th>2</th>\n",
       "      <td>3</td>\n",
       "      <td>1</td>\n",
       "      <td>Sentiment140</td>\n",
       "      <td>omg its already 7:30 :O</td>\n",
       "    </tr>\n",
       "    <tr>\n",
       "      <th>3</th>\n",
       "      <td>4</td>\n",
       "      <td>0</td>\n",
       "      <td>Sentiment140</td>\n",
       "      <td>.. Omgaga. Im sooo  im gunna CRy. I'...</td>\n",
       "    </tr>\n",
       "    <tr>\n",
       "      <th>4</th>\n",
       "      <td>5</td>\n",
       "      <td>0</td>\n",
       "      <td>Sentiment140</td>\n",
       "      <td>i think mi bf is cheating on me!!!   ...</td>\n",
       "    </tr>\n",
       "    <tr>\n",
       "      <th>...</th>\n",
       "      <td>...</td>\n",
       "      <td>...</td>\n",
       "      <td>...</td>\n",
       "      <td>...</td>\n",
       "    </tr>\n",
       "    <tr>\n",
       "      <th>39995</th>\n",
       "      <td>40007</td>\n",
       "      <td>0</td>\n",
       "      <td>Sentiment140</td>\n",
       "      <td>@AndreaKidd Ouchies, I hope it isn't anything ...</td>\n",
       "    </tr>\n",
       "    <tr>\n",
       "      <th>39996</th>\n",
       "      <td>40008</td>\n",
       "      <td>1</td>\n",
       "      <td>Sentiment140</td>\n",
       "      <td>@AndreaKobayashi It's the best cafe in Asakusa...</td>\n",
       "    </tr>\n",
       "    <tr>\n",
       "      <th>39997</th>\n",
       "      <td>40009</td>\n",
       "      <td>1</td>\n",
       "      <td>Sentiment140</td>\n",
       "      <td>@AndreaKoeln heeey! tonight is the night! no s...</td>\n",
       "    </tr>\n",
       "    <tr>\n",
       "      <th>39998</th>\n",
       "      <td>40010</td>\n",
       "      <td>1</td>\n",
       "      <td>Sentiment140</td>\n",
       "      <td>@AmandaFClark it is when you add the hammock</td>\n",
       "    </tr>\n",
       "    <tr>\n",
       "      <th>39999</th>\n",
       "      <td>40011</td>\n",
       "      <td>0</td>\n",
       "      <td>Sentiment140</td>\n",
       "      <td>@amandafortier  I am so happy with all the fun...</td>\n",
       "    </tr>\n",
       "  </tbody>\n",
       "</table>\n",
       "<p>40000 rows × 4 columns</p>\n",
       "</div>"
      ],
      "text/plain": [
       "       ï»¿ItemID  Sentiment SentimentSource  \\\n",
       "0              1          0    Sentiment140   \n",
       "1              2          0    Sentiment140   \n",
       "2              3          1    Sentiment140   \n",
       "3              4          0    Sentiment140   \n",
       "4              5          0    Sentiment140   \n",
       "...          ...        ...             ...   \n",
       "39995      40007          0    Sentiment140   \n",
       "39996      40008          1    Sentiment140   \n",
       "39997      40009          1    Sentiment140   \n",
       "39998      40010          1    Sentiment140   \n",
       "39999      40011          0    Sentiment140   \n",
       "\n",
       "                                           SentimentText  \n",
       "0                           is so sad for my APL frie...  \n",
       "1                         I missed the New Moon trail...  \n",
       "2                                omg its already 7:30 :O  \n",
       "3                .. Omgaga. Im sooo  im gunna CRy. I'...  \n",
       "4               i think mi bf is cheating on me!!!   ...  \n",
       "...                                                  ...  \n",
       "39995  @AndreaKidd Ouchies, I hope it isn't anything ...  \n",
       "39996  @AndreaKobayashi It's the best cafe in Asakusa...  \n",
       "39997  @AndreaKoeln heeey! tonight is the night! no s...  \n",
       "39998      @AmandaFClark it is when you add the hammock   \n",
       "39999  @amandafortier  I am so happy with all the fun...  \n",
       "\n",
       "[40000 rows x 4 columns]"
      ]
     },
     "execution_count": 5,
     "metadata": {},
     "output_type": "execute_result"
    }
   ],
   "source": [
    "tweets_df"
   ]
  },
  {
   "cell_type": "code",
   "execution_count": 6,
   "id": "5dbb8844",
   "metadata": {},
   "outputs": [],
   "source": [
    "## select the tweets with sentiment == 1 \n",
    "new_df = tweets_df[tweets_df.Sentiment == 1]\n",
    "new_df.reset_index(inplace=True)"
   ]
  },
  {
   "cell_type": "code",
   "execution_count": 7,
   "id": "3fa3f0c0",
   "metadata": {},
   "outputs": [
    {
     "data": {
      "text/plain": [
       "(20952, 5)"
      ]
     },
     "execution_count": 7,
     "metadata": {},
     "output_type": "execute_result"
    }
   ],
   "source": [
    "new_df.shape"
   ]
  },
  {
   "cell_type": "code",
   "execution_count": 8,
   "id": "7a916cbf",
   "metadata": {},
   "outputs": [
    {
     "data": {
      "text/html": [
       "<div>\n",
       "<style scoped>\n",
       "    .dataframe tbody tr th:only-of-type {\n",
       "        vertical-align: middle;\n",
       "    }\n",
       "\n",
       "    .dataframe tbody tr th {\n",
       "        vertical-align: top;\n",
       "    }\n",
       "\n",
       "    .dataframe thead th {\n",
       "        text-align: right;\n",
       "    }\n",
       "</style>\n",
       "<table border=\"1\" class=\"dataframe\">\n",
       "  <thead>\n",
       "    <tr style=\"text-align: right;\">\n",
       "      <th></th>\n",
       "      <th>index</th>\n",
       "      <th>ï»¿ItemID</th>\n",
       "      <th>Sentiment</th>\n",
       "      <th>SentimentSource</th>\n",
       "      <th>SentimentText</th>\n",
       "    </tr>\n",
       "  </thead>\n",
       "  <tbody>\n",
       "    <tr>\n",
       "      <th>0</th>\n",
       "      <td>2</td>\n",
       "      <td>3</td>\n",
       "      <td>1</td>\n",
       "      <td>Sentiment140</td>\n",
       "      <td>omg its already 7:30 :O</td>\n",
       "    </tr>\n",
       "    <tr>\n",
       "      <th>1</th>\n",
       "      <td>6</td>\n",
       "      <td>7</td>\n",
       "      <td>1</td>\n",
       "      <td>Sentiment140</td>\n",
       "      <td>Juuuuuuuuuuuuuuuuussssst Chillin!!</td>\n",
       "    </tr>\n",
       "    <tr>\n",
       "      <th>2</th>\n",
       "      <td>8</td>\n",
       "      <td>9</td>\n",
       "      <td>1</td>\n",
       "      <td>Sentiment140</td>\n",
       "      <td>handed in my uniform today . i miss you ...</td>\n",
       "    </tr>\n",
       "    <tr>\n",
       "      <th>3</th>\n",
       "      <td>9</td>\n",
       "      <td>10</td>\n",
       "      <td>1</td>\n",
       "      <td>Sentiment140</td>\n",
       "      <td>hmmmm.... i wonder how she my number @-)</td>\n",
       "    </tr>\n",
       "    <tr>\n",
       "      <th>4</th>\n",
       "      <td>11</td>\n",
       "      <td>12</td>\n",
       "      <td>1</td>\n",
       "      <td>Sentiment140</td>\n",
       "      <td>thanks to all the haters up in my face a...</td>\n",
       "    </tr>\n",
       "    <tr>\n",
       "      <th>...</th>\n",
       "      <td>...</td>\n",
       "      <td>...</td>\n",
       "      <td>...</td>\n",
       "      <td>...</td>\n",
       "      <td>...</td>\n",
       "    </tr>\n",
       "    <tr>\n",
       "      <th>20947</th>\n",
       "      <td>39992</td>\n",
       "      <td>40004</td>\n",
       "      <td>1</td>\n",
       "      <td>Sentiment140</td>\n",
       "      <td>@andreaj27 well, cheers. i have a glass of wat...</td>\n",
       "    </tr>\n",
       "    <tr>\n",
       "      <th>20948</th>\n",
       "      <td>39994</td>\n",
       "      <td>40006</td>\n",
       "      <td>1</td>\n",
       "      <td>Sentiment140</td>\n",
       "      <td>@AndreaJo84 Is that right? You're over in Palm...</td>\n",
       "    </tr>\n",
       "    <tr>\n",
       "      <th>20949</th>\n",
       "      <td>39996</td>\n",
       "      <td>40008</td>\n",
       "      <td>1</td>\n",
       "      <td>Sentiment140</td>\n",
       "      <td>@AndreaKobayashi It's the best cafe in Asakusa...</td>\n",
       "    </tr>\n",
       "    <tr>\n",
       "      <th>20950</th>\n",
       "      <td>39997</td>\n",
       "      <td>40009</td>\n",
       "      <td>1</td>\n",
       "      <td>Sentiment140</td>\n",
       "      <td>@AndreaKoeln heeey! tonight is the night! no s...</td>\n",
       "    </tr>\n",
       "    <tr>\n",
       "      <th>20951</th>\n",
       "      <td>39998</td>\n",
       "      <td>40010</td>\n",
       "      <td>1</td>\n",
       "      <td>Sentiment140</td>\n",
       "      <td>@AmandaFClark it is when you add the hammock</td>\n",
       "    </tr>\n",
       "  </tbody>\n",
       "</table>\n",
       "<p>20952 rows × 5 columns</p>\n",
       "</div>"
      ],
      "text/plain": [
       "       index  ï»¿ItemID  Sentiment SentimentSource  \\\n",
       "0          2          3          1    Sentiment140   \n",
       "1          6          7          1    Sentiment140   \n",
       "2          8          9          1    Sentiment140   \n",
       "3          9         10          1    Sentiment140   \n",
       "4         11         12          1    Sentiment140   \n",
       "...      ...        ...        ...             ...   \n",
       "20947  39992      40004          1    Sentiment140   \n",
       "20948  39994      40006          1    Sentiment140   \n",
       "20949  39996      40008          1    Sentiment140   \n",
       "20950  39997      40009          1    Sentiment140   \n",
       "20951  39998      40010          1    Sentiment140   \n",
       "\n",
       "                                           SentimentText  \n",
       "0                                omg its already 7:30 :O  \n",
       "1                     Juuuuuuuuuuuuuuuuussssst Chillin!!  \n",
       "2            handed in my uniform today . i miss you ...  \n",
       "3               hmmmm.... i wonder how she my number @-)  \n",
       "4            thanks to all the haters up in my face a...  \n",
       "...                                                  ...  \n",
       "20947  @andreaj27 well, cheers. i have a glass of wat...  \n",
       "20948  @AndreaJo84 Is that right? You're over in Palm...  \n",
       "20949  @AndreaKobayashi It's the best cafe in Asakusa...  \n",
       "20950  @AndreaKoeln heeey! tonight is the night! no s...  \n",
       "20951      @AmandaFClark it is when you add the hammock   \n",
       "\n",
       "[20952 rows x 5 columns]"
      ]
     },
     "execution_count": 8,
     "metadata": {},
     "output_type": "execute_result"
    }
   ],
   "source": [
    "new_df"
   ]
  },
  {
   "cell_type": "markdown",
   "id": "1fa9f2a1",
   "metadata": {},
   "source": [
    "## Data Cleaning and Processing:"
   ]
  },
  {
   "cell_type": "code",
   "execution_count": 9,
   "id": "23709f0f",
   "metadata": {},
   "outputs": [
    {
     "name": "stdout",
     "output_type": "stream",
     "text": [
      "(24147, 7)\n",
      "(20952, 5)\n"
     ]
    }
   ],
   "source": [
    "print(dep_tweets_df.shape)\n",
    "print(new_df.shape)"
   ]
  },
  {
   "cell_type": "code",
   "execution_count": 10,
   "id": "eceded3c",
   "metadata": {},
   "outputs": [
    {
     "name": "stdout",
     "output_type": "stream",
     "text": [
      "<class 'pandas.core.frame.DataFrame'>\n",
      "RangeIndex: 24147 entries, 0 to 24146\n",
      "Data columns (total 7 columns):\n",
      " #   Column      Non-Null Count  Dtype \n",
      "---  ------      --------------  ----- \n",
      " 0   Unnamed: 0  24147 non-null  int64 \n",
      " 1   tweet.id    24147 non-null  int64 \n",
      " 2   created_at  24147 non-null  object\n",
      " 3   text        24147 non-null  object\n",
      " 4   location    15409 non-null  object\n",
      " 5   retweet     24147 non-null  int64 \n",
      " 6   favorite    24147 non-null  int64 \n",
      "dtypes: int64(4), object(3)\n",
      "memory usage: 1.3+ MB\n"
     ]
    }
   ],
   "source": [
    "## Check the data type of each column\n",
    "dep_tweets_df.info()"
   ]
  },
  {
   "cell_type": "code",
   "execution_count": 11,
   "id": "84d23ea6",
   "metadata": {},
   "outputs": [
    {
     "name": "stdout",
     "output_type": "stream",
     "text": [
      "<class 'pandas.core.frame.DataFrame'>\n",
      "RangeIndex: 20952 entries, 0 to 20951\n",
      "Data columns (total 5 columns):\n",
      " #   Column           Non-Null Count  Dtype \n",
      "---  ------           --------------  ----- \n",
      " 0   index            20952 non-null  int64 \n",
      " 1   ï»¿ItemID        20952 non-null  int64 \n",
      " 2   Sentiment        20952 non-null  int64 \n",
      " 3   SentimentSource  20952 non-null  object\n",
      " 4   SentimentText    20952 non-null  object\n",
      "dtypes: int64(3), object(2)\n",
      "memory usage: 818.6+ KB\n"
     ]
    }
   ],
   "source": [
    "new_df.info()"
   ]
  },
  {
   "cell_type": "code",
   "execution_count": 12,
   "id": "e5101e4f",
   "metadata": {},
   "outputs": [
    {
     "name": "stderr",
     "output_type": "stream",
     "text": [
      "C:\\Users\\otaku7\\anaconda3\\lib\\site-packages\\pandas\\core\\frame.py:4906: SettingWithCopyWarning: \n",
      "A value is trying to be set on a copy of a slice from a DataFrame\n",
      "\n",
      "See the caveats in the documentation: https://pandas.pydata.org/pandas-docs/stable/user_guide/indexing.html#returning-a-view-versus-a-copy\n",
      "  return super().drop(\n"
     ]
    }
   ],
   "source": [
    "# Drop unnecessary columns\n",
    "dep_tweets_df.drop(columns=['Unnamed: 0'], inplace=True)\n",
    "new_df.drop(columns=['ï»¿ItemID', 'index','Sentiment', 'SentimentSource'], inplace=True)"
   ]
  },
  {
   "cell_type": "code",
   "execution_count": 13,
   "id": "2b015530",
   "metadata": {},
   "outputs": [
    {
     "name": "stdout",
     "output_type": "stream",
     "text": [
      "(24147, 6)\n",
      "(20952, 1)\n"
     ]
    }
   ],
   "source": [
    "print(dep_tweets_df.shape)\n",
    "print(new_df.shape)"
   ]
  },
  {
   "cell_type": "code",
   "execution_count": 14,
   "id": "c8c3401a",
   "metadata": {},
   "outputs": [
    {
     "data": {
      "text/html": [
       "<div>\n",
       "<style scoped>\n",
       "    .dataframe tbody tr th:only-of-type {\n",
       "        vertical-align: middle;\n",
       "    }\n",
       "\n",
       "    .dataframe tbody tr th {\n",
       "        vertical-align: top;\n",
       "    }\n",
       "\n",
       "    .dataframe thead th {\n",
       "        text-align: right;\n",
       "    }\n",
       "</style>\n",
       "<table border=\"1\" class=\"dataframe\">\n",
       "  <thead>\n",
       "    <tr style=\"text-align: right;\">\n",
       "      <th></th>\n",
       "      <th>SentimentText</th>\n",
       "    </tr>\n",
       "  </thead>\n",
       "  <tbody>\n",
       "    <tr>\n",
       "      <th>0</th>\n",
       "      <td>omg its already 7:30 :O</td>\n",
       "    </tr>\n",
       "    <tr>\n",
       "      <th>1</th>\n",
       "      <td>Juuuuuuuuuuuuuuuuussssst Chillin!!</td>\n",
       "    </tr>\n",
       "    <tr>\n",
       "      <th>2</th>\n",
       "      <td>handed in my uniform today . i miss you ...</td>\n",
       "    </tr>\n",
       "    <tr>\n",
       "      <th>3</th>\n",
       "      <td>hmmmm.... i wonder how she my number @-)</td>\n",
       "    </tr>\n",
       "    <tr>\n",
       "      <th>4</th>\n",
       "      <td>thanks to all the haters up in my face a...</td>\n",
       "    </tr>\n",
       "    <tr>\n",
       "      <th>...</th>\n",
       "      <td>...</td>\n",
       "    </tr>\n",
       "    <tr>\n",
       "      <th>20947</th>\n",
       "      <td>@andreaj27 well, cheers. i have a glass of wat...</td>\n",
       "    </tr>\n",
       "    <tr>\n",
       "      <th>20948</th>\n",
       "      <td>@AndreaJo84 Is that right? You're over in Palm...</td>\n",
       "    </tr>\n",
       "    <tr>\n",
       "      <th>20949</th>\n",
       "      <td>@AndreaKobayashi It's the best cafe in Asakusa...</td>\n",
       "    </tr>\n",
       "    <tr>\n",
       "      <th>20950</th>\n",
       "      <td>@AndreaKoeln heeey! tonight is the night! no s...</td>\n",
       "    </tr>\n",
       "    <tr>\n",
       "      <th>20951</th>\n",
       "      <td>@AmandaFClark it is when you add the hammock</td>\n",
       "    </tr>\n",
       "  </tbody>\n",
       "</table>\n",
       "<p>20952 rows × 1 columns</p>\n",
       "</div>"
      ],
      "text/plain": [
       "                                           SentimentText\n",
       "0                                omg its already 7:30 :O\n",
       "1                     Juuuuuuuuuuuuuuuuussssst Chillin!!\n",
       "2            handed in my uniform today . i miss you ...\n",
       "3               hmmmm.... i wonder how she my number @-)\n",
       "4            thanks to all the haters up in my face a...\n",
       "...                                                  ...\n",
       "20947  @andreaj27 well, cheers. i have a glass of wat...\n",
       "20948  @AndreaJo84 Is that right? You're over in Palm...\n",
       "20949  @AndreaKobayashi It's the best cafe in Asakusa...\n",
       "20950  @AndreaKoeln heeey! tonight is the night! no s...\n",
       "20951      @AmandaFClark it is when you add the hammock \n",
       "\n",
       "[20952 rows x 1 columns]"
      ]
     },
     "execution_count": 14,
     "metadata": {},
     "output_type": "execute_result"
    }
   ],
   "source": [
    "new_df"
   ]
  },
  {
   "cell_type": "code",
   "execution_count": 17,
   "id": "dcd237ec",
   "metadata": {},
   "outputs": [
    {
     "data": {
      "text/plain": [
       "tweet.id      18190\n",
       "created_at    18071\n",
       "text          17107\n",
       "location       4647\n",
       "retweet          74\n",
       "favorite        159\n",
       "dtype: int64"
      ]
     },
     "execution_count": 17,
     "metadata": {},
     "output_type": "execute_result"
    }
   ],
   "source": [
    "## Finding unique values in each column\n",
    "dep_tweets_df.nunique()\n"
   ]
  },
  {
   "cell_type": "markdown",
   "id": "7325416e",
   "metadata": {},
   "source": [
    " we have 18190 unique tweets according to tweet.id, so we need to get rid of the duplicates."
   ]
  },
  {
   "cell_type": "code",
   "execution_count": 18,
   "id": "35657232",
   "metadata": {},
   "outputs": [
    {
     "data": {
      "text/plain": [
       "SentimentText    20952\n",
       "dtype: int64"
      ]
     },
     "execution_count": 18,
     "metadata": {},
     "output_type": "execute_result"
    }
   ],
   "source": [
    "new_df.nunique()"
   ]
  },
  {
   "cell_type": "code",
   "execution_count": 20,
   "id": "ba824754",
   "metadata": {},
   "outputs": [],
   "source": [
    "## drop duplicate values in tweet.id\n",
    "dep_tweets_df.drop_duplicates(subset=['tweet.id'], inplace=True)"
   ]
  },
  {
   "cell_type": "code",
   "execution_count": 21,
   "id": "4ffc8a0f",
   "metadata": {},
   "outputs": [],
   "source": [
    "dep_tweets_df.reset_index(inplace=True)"
   ]
  },
  {
   "cell_type": "code",
   "execution_count": 22,
   "id": "c2f13fab",
   "metadata": {},
   "outputs": [
    {
     "data": {
      "text/plain": [
       "(18190, 7)"
      ]
     },
     "execution_count": 22,
     "metadata": {},
     "output_type": "execute_result"
    }
   ],
   "source": [
    "dep_tweets_df.shape"
   ]
  },
  {
   "cell_type": "code",
   "execution_count": 23,
   "id": "9e34821f",
   "metadata": {},
   "outputs": [
    {
     "data": {
      "text/plain": [
       "index            0\n",
       "tweet.id         0\n",
       "created_at       0\n",
       "text             0\n",
       "location      6384\n",
       "retweet          0\n",
       "favorite         0\n",
       "dtype: int64"
      ]
     },
     "execution_count": 23,
     "metadata": {},
     "output_type": "execute_result"
    }
   ],
   "source": [
    "dep_tweets_df.isnull().sum()"
   ]
  },
  {
   "cell_type": "markdown",
   "id": "eaea9a79",
   "metadata": {},
   "source": [
    "location will not be used in our analysis or as a feature in our model, we don't need to replace them."
   ]
  },
  {
   "cell_type": "code",
   "execution_count": 24,
   "id": "01f33c1e",
   "metadata": {},
   "outputs": [
    {
     "data": {
      "text/plain": [
       "SentimentText    0\n",
       "dtype: int64"
      ]
     },
     "execution_count": 24,
     "metadata": {},
     "output_type": "execute_result"
    }
   ],
   "source": [
    "new_df.isnull().sum()"
   ]
  },
  {
   "cell_type": "code",
   "execution_count": 25,
   "id": "d81f9371",
   "metadata": {},
   "outputs": [],
   "source": [
    "## Drop all the columns except index, tweet.id and text\n",
    "new_dep_df = dep_tweets_df[['text']]"
   ]
  },
  {
   "cell_type": "code",
   "execution_count": 26,
   "id": "ef5e203c",
   "metadata": {},
   "outputs": [
    {
     "name": "stderr",
     "output_type": "stream",
     "text": [
      "C:\\Users\\otaku7\\AppData\\Local\\Temp/ipykernel_42276/2466168844.py:2: SettingWithCopyWarning: \n",
      "A value is trying to be set on a copy of a slice from a DataFrame.\n",
      "Try using .loc[row_indexer,col_indexer] = value instead\n",
      "\n",
      "See the caveats in the documentation: https://pandas.pydata.org/pandas-docs/stable/user_guide/indexing.html#returning-a-view-versus-a-copy\n",
      "  new_dep_df['label'] = pd.Series([1 for x in range(len(new_dep_df.index))])\n",
      "C:\\Users\\otaku7\\AppData\\Local\\Temp/ipykernel_42276/2466168844.py:3: SettingWithCopyWarning: \n",
      "A value is trying to be set on a copy of a slice from a DataFrame.\n",
      "Try using .loc[row_indexer,col_indexer] = value instead\n",
      "\n",
      "See the caveats in the documentation: https://pandas.pydata.org/pandas-docs/stable/user_guide/indexing.html#returning-a-view-versus-a-copy\n",
      "  new_df['label'] = pd.Series([0 for x in range(len(new_df.index))])\n"
     ]
    }
   ],
   "source": [
    "## Add label to both datasets (0 is non-depressive and 1 is depressive)\n",
    "new_dep_df['label'] = pd.Series([1 for x in range(len(new_dep_df.index))])\n",
    "new_df['label'] = pd.Series([0 for x in range(len(new_df.index))])"
   ]
  },
  {
   "cell_type": "code",
   "execution_count": 27,
   "id": "3b8b2e87",
   "metadata": {},
   "outputs": [
    {
     "data": {
      "text/html": [
       "<div>\n",
       "<style scoped>\n",
       "    .dataframe tbody tr th:only-of-type {\n",
       "        vertical-align: middle;\n",
       "    }\n",
       "\n",
       "    .dataframe tbody tr th {\n",
       "        vertical-align: top;\n",
       "    }\n",
       "\n",
       "    .dataframe thead th {\n",
       "        text-align: right;\n",
       "    }\n",
       "</style>\n",
       "<table border=\"1\" class=\"dataframe\">\n",
       "  <thead>\n",
       "    <tr style=\"text-align: right;\">\n",
       "      <th></th>\n",
       "      <th>text</th>\n",
       "      <th>label</th>\n",
       "    </tr>\n",
       "  </thead>\n",
       "  <tbody>\n",
       "    <tr>\n",
       "      <th>0</th>\n",
       "      <td>Open discussion. Between the Transfer Portal a...</td>\n",
       "      <td>1</td>\n",
       "    </tr>\n",
       "    <tr>\n",
       "      <th>1</th>\n",
       "      <td>Plenty of things are changing in my life and t...</td>\n",
       "      <td>1</td>\n",
       "    </tr>\n",
       "    <tr>\n",
       "      <th>2</th>\n",
       "      <td>I feel a little hopeless. Anyone else? #hopele...</td>\n",
       "      <td>1</td>\n",
       "    </tr>\n",
       "    <tr>\n",
       "      <th>3</th>\n",
       "      <td>Which is more healthy? Hope, or hopelessness? ...</td>\n",
       "      <td>1</td>\n",
       "    </tr>\n",
       "    <tr>\n",
       "      <th>4</th>\n",
       "      <td>So someone tell me how do I get over #HOPELESS...</td>\n",
       "      <td>1</td>\n",
       "    </tr>\n",
       "    <tr>\n",
       "      <th>...</th>\n",
       "      <td>...</td>\n",
       "      <td>...</td>\n",
       "    </tr>\n",
       "    <tr>\n",
       "      <th>18185</th>\n",
       "      <td>Just got banned from a server F #sad</td>\n",
       "      <td>1</td>\n",
       "    </tr>\n",
       "    <tr>\n",
       "      <th>18186</th>\n",
       "      <td>I literally cried during my exam and the cam i...</td>\n",
       "      <td>1</td>\n",
       "    </tr>\n",
       "    <tr>\n",
       "      <th>18187</th>\n",
       "      <td>No one can be happy with a guy like me. That's...</td>\n",
       "      <td>1</td>\n",
       "    </tr>\n",
       "    <tr>\n",
       "      <th>18188</th>\n",
       "      <td>arrived at my house but Am I Home? #deep #sad ...</td>\n",
       "      <td>1</td>\n",
       "    </tr>\n",
       "    <tr>\n",
       "      <th>18189</th>\n",
       "      <td>Being spoken down to rn at @starbucks and reme...</td>\n",
       "      <td>1</td>\n",
       "    </tr>\n",
       "  </tbody>\n",
       "</table>\n",
       "<p>18190 rows × 2 columns</p>\n",
       "</div>"
      ],
      "text/plain": [
       "                                                    text  label\n",
       "0      Open discussion. Between the Transfer Portal a...      1\n",
       "1      Plenty of things are changing in my life and t...      1\n",
       "2      I feel a little hopeless. Anyone else? #hopele...      1\n",
       "3      Which is more healthy? Hope, or hopelessness? ...      1\n",
       "4      So someone tell me how do I get over #HOPELESS...      1\n",
       "...                                                  ...    ...\n",
       "18185               Just got banned from a server F #sad      1\n",
       "18186  I literally cried during my exam and the cam i...      1\n",
       "18187  No one can be happy with a guy like me. That's...      1\n",
       "18188  arrived at my house but Am I Home? #deep #sad ...      1\n",
       "18189  Being spoken down to rn at @starbucks and reme...      1\n",
       "\n",
       "[18190 rows x 2 columns]"
      ]
     },
     "execution_count": 27,
     "metadata": {},
     "output_type": "execute_result"
    }
   ],
   "source": [
    "new_dep_df"
   ]
  },
  {
   "cell_type": "code",
   "execution_count": 29,
   "id": "e98549b4",
   "metadata": {},
   "outputs": [
    {
     "name": "stderr",
     "output_type": "stream",
     "text": [
      "C:\\Users\\otaku7\\anaconda3\\lib\\site-packages\\pandas\\core\\frame.py:5039: SettingWithCopyWarning: \n",
      "A value is trying to be set on a copy of a slice from a DataFrame\n",
      "\n",
      "See the caveats in the documentation: https://pandas.pydata.org/pandas-docs/stable/user_guide/indexing.html#returning-a-view-versus-a-copy\n",
      "  return super().rename(\n"
     ]
    }
   ],
   "source": [
    "## Change the column name to be aligned with depressive dataset\n",
    "new_df.rename(columns={'SentimentText': 'text'}, inplace=True)"
   ]
  },
  {
   "cell_type": "code",
   "execution_count": 31,
   "id": "f1af6b3d",
   "metadata": {},
   "outputs": [
    {
     "data": {
      "text/html": [
       "<div>\n",
       "<style scoped>\n",
       "    .dataframe tbody tr th:only-of-type {\n",
       "        vertical-align: middle;\n",
       "    }\n",
       "\n",
       "    .dataframe tbody tr th {\n",
       "        vertical-align: top;\n",
       "    }\n",
       "\n",
       "    .dataframe thead th {\n",
       "        text-align: right;\n",
       "    }\n",
       "</style>\n",
       "<table border=\"1\" class=\"dataframe\">\n",
       "  <thead>\n",
       "    <tr style=\"text-align: right;\">\n",
       "      <th></th>\n",
       "      <th>text</th>\n",
       "      <th>label</th>\n",
       "    </tr>\n",
       "  </thead>\n",
       "  <tbody>\n",
       "    <tr>\n",
       "      <th>0</th>\n",
       "      <td>omg its already 7:30 :O</td>\n",
       "      <td>0</td>\n",
       "    </tr>\n",
       "    <tr>\n",
       "      <th>1</th>\n",
       "      <td>Juuuuuuuuuuuuuuuuussssst Chillin!!</td>\n",
       "      <td>0</td>\n",
       "    </tr>\n",
       "    <tr>\n",
       "      <th>2</th>\n",
       "      <td>handed in my uniform today . i miss you ...</td>\n",
       "      <td>0</td>\n",
       "    </tr>\n",
       "    <tr>\n",
       "      <th>3</th>\n",
       "      <td>hmmmm.... i wonder how she my number @-)</td>\n",
       "      <td>0</td>\n",
       "    </tr>\n",
       "    <tr>\n",
       "      <th>4</th>\n",
       "      <td>thanks to all the haters up in my face a...</td>\n",
       "      <td>0</td>\n",
       "    </tr>\n",
       "    <tr>\n",
       "      <th>...</th>\n",
       "      <td>...</td>\n",
       "      <td>...</td>\n",
       "    </tr>\n",
       "    <tr>\n",
       "      <th>20947</th>\n",
       "      <td>@andreaj27 well, cheers. i have a glass of wat...</td>\n",
       "      <td>0</td>\n",
       "    </tr>\n",
       "    <tr>\n",
       "      <th>20948</th>\n",
       "      <td>@AndreaJo84 Is that right? You're over in Palm...</td>\n",
       "      <td>0</td>\n",
       "    </tr>\n",
       "    <tr>\n",
       "      <th>20949</th>\n",
       "      <td>@AndreaKobayashi It's the best cafe in Asakusa...</td>\n",
       "      <td>0</td>\n",
       "    </tr>\n",
       "    <tr>\n",
       "      <th>20950</th>\n",
       "      <td>@AndreaKoeln heeey! tonight is the night! no s...</td>\n",
       "      <td>0</td>\n",
       "    </tr>\n",
       "    <tr>\n",
       "      <th>20951</th>\n",
       "      <td>@AmandaFClark it is when you add the hammock</td>\n",
       "      <td>0</td>\n",
       "    </tr>\n",
       "  </tbody>\n",
       "</table>\n",
       "<p>20952 rows × 2 columns</p>\n",
       "</div>"
      ],
      "text/plain": [
       "                                                    text  label\n",
       "0                                omg its already 7:30 :O      0\n",
       "1                     Juuuuuuuuuuuuuuuuussssst Chillin!!      0\n",
       "2            handed in my uniform today . i miss you ...      0\n",
       "3               hmmmm.... i wonder how she my number @-)      0\n",
       "4            thanks to all the haters up in my face a...      0\n",
       "...                                                  ...    ...\n",
       "20947  @andreaj27 well, cheers. i have a glass of wat...      0\n",
       "20948  @AndreaJo84 Is that right? You're over in Palm...      0\n",
       "20949  @AndreaKobayashi It's the best cafe in Asakusa...      0\n",
       "20950  @AndreaKoeln heeey! tonight is the night! no s...      0\n",
       "20951      @AmandaFClark it is when you add the hammock       0\n",
       "\n",
       "[20952 rows x 2 columns]"
      ]
     },
     "execution_count": 31,
     "metadata": {},
     "output_type": "execute_result"
    }
   ],
   "source": [
    "new_df"
   ]
  },
  {
   "cell_type": "code",
   "execution_count": 32,
   "id": "2bcc80e7",
   "metadata": {},
   "outputs": [],
   "source": [
    "## Combine two dataframes together\n",
    "df_all = pd.concat([new_dep_df, new_df], ignore_index=True)"
   ]
  },
  {
   "cell_type": "code",
   "execution_count": 33,
   "id": "c5cf526d",
   "metadata": {},
   "outputs": [
    {
     "data": {
      "text/html": [
       "<div>\n",
       "<style scoped>\n",
       "    .dataframe tbody tr th:only-of-type {\n",
       "        vertical-align: middle;\n",
       "    }\n",
       "\n",
       "    .dataframe tbody tr th {\n",
       "        vertical-align: top;\n",
       "    }\n",
       "\n",
       "    .dataframe thead th {\n",
       "        text-align: right;\n",
       "    }\n",
       "</style>\n",
       "<table border=\"1\" class=\"dataframe\">\n",
       "  <thead>\n",
       "    <tr style=\"text-align: right;\">\n",
       "      <th></th>\n",
       "      <th>text</th>\n",
       "      <th>label</th>\n",
       "    </tr>\n",
       "  </thead>\n",
       "  <tbody>\n",
       "    <tr>\n",
       "      <th>0</th>\n",
       "      <td>Open discussion. Between the Transfer Portal a...</td>\n",
       "      <td>1</td>\n",
       "    </tr>\n",
       "    <tr>\n",
       "      <th>1</th>\n",
       "      <td>Plenty of things are changing in my life and t...</td>\n",
       "      <td>1</td>\n",
       "    </tr>\n",
       "    <tr>\n",
       "      <th>2</th>\n",
       "      <td>I feel a little hopeless. Anyone else? #hopele...</td>\n",
       "      <td>1</td>\n",
       "    </tr>\n",
       "    <tr>\n",
       "      <th>3</th>\n",
       "      <td>Which is more healthy? Hope, or hopelessness? ...</td>\n",
       "      <td>1</td>\n",
       "    </tr>\n",
       "    <tr>\n",
       "      <th>4</th>\n",
       "      <td>So someone tell me how do I get over #HOPELESS...</td>\n",
       "      <td>1</td>\n",
       "    </tr>\n",
       "    <tr>\n",
       "      <th>...</th>\n",
       "      <td>...</td>\n",
       "      <td>...</td>\n",
       "    </tr>\n",
       "    <tr>\n",
       "      <th>39137</th>\n",
       "      <td>@andreaj27 well, cheers. i have a glass of wat...</td>\n",
       "      <td>0</td>\n",
       "    </tr>\n",
       "    <tr>\n",
       "      <th>39138</th>\n",
       "      <td>@AndreaJo84 Is that right? You're over in Palm...</td>\n",
       "      <td>0</td>\n",
       "    </tr>\n",
       "    <tr>\n",
       "      <th>39139</th>\n",
       "      <td>@AndreaKobayashi It's the best cafe in Asakusa...</td>\n",
       "      <td>0</td>\n",
       "    </tr>\n",
       "    <tr>\n",
       "      <th>39140</th>\n",
       "      <td>@AndreaKoeln heeey! tonight is the night! no s...</td>\n",
       "      <td>0</td>\n",
       "    </tr>\n",
       "    <tr>\n",
       "      <th>39141</th>\n",
       "      <td>@AmandaFClark it is when you add the hammock</td>\n",
       "      <td>0</td>\n",
       "    </tr>\n",
       "  </tbody>\n",
       "</table>\n",
       "<p>39142 rows × 2 columns</p>\n",
       "</div>"
      ],
      "text/plain": [
       "                                                    text  label\n",
       "0      Open discussion. Between the Transfer Portal a...      1\n",
       "1      Plenty of things are changing in my life and t...      1\n",
       "2      I feel a little hopeless. Anyone else? #hopele...      1\n",
       "3      Which is more healthy? Hope, or hopelessness? ...      1\n",
       "4      So someone tell me how do I get over #HOPELESS...      1\n",
       "...                                                  ...    ...\n",
       "39137  @andreaj27 well, cheers. i have a glass of wat...      0\n",
       "39138  @AndreaJo84 Is that right? You're over in Palm...      0\n",
       "39139  @AndreaKobayashi It's the best cafe in Asakusa...      0\n",
       "39140  @AndreaKoeln heeey! tonight is the night! no s...      0\n",
       "39141      @AmandaFClark it is when you add the hammock       0\n",
       "\n",
       "[39142 rows x 2 columns]"
      ]
     },
     "execution_count": 33,
     "metadata": {},
     "output_type": "execute_result"
    }
   ],
   "source": [
    "df_all"
   ]
  },
  {
   "cell_type": "code",
   "execution_count": 34,
   "id": "fac0fc36",
   "metadata": {},
   "outputs": [],
   "source": [
    "# Expand Contraction\n",
    "cList = {\n",
    "  \"ain't\": \"am not\",\n",
    "  \"aren't\": \"are not\",\n",
    "  \"can't\": \"cannot\",\n",
    "  \"can't've\": \"cannot have\",\n",
    "  \"'cause\": \"because\",\n",
    "  \"could've\": \"could have\",\n",
    "  \"couldn't\": \"could not\",\n",
    "  \"couldn't've\": \"could not have\",\n",
    "  \"didn't\": \"did not\",\n",
    "  \"doesn't\": \"does not\",\n",
    "  \"don't\": \"do not\",\n",
    "  \"hadn't\": \"had not\",\n",
    "  \"hadn't've\": \"had not have\",\n",
    "  \"hasn't\": \"has not\",\n",
    "  \"haven't\": \"have not\",\n",
    "  \"he'd\": \"he would\",\n",
    "  \"he'd've\": \"he would have\",\n",
    "  \"he'll\": \"he will\",\n",
    "  \"he'll've\": \"he will have\",\n",
    "  \"he's\": \"he is\",\n",
    "  \"how'd\": \"how did\",\n",
    "  \"how'd'y\": \"how do you\",\n",
    "  \"how'll\": \"how will\",\n",
    "  \"how's\": \"how is\",\n",
    "  \"I'd\": \"I would\",\n",
    "  \"I'd've\": \"I would have\",\n",
    "  \"I'll\": \"I will\",\n",
    "  \"I'll've\": \"I will have\",\n",
    "  \"I'm\": \"I am\",\n",
    "  \"I've\": \"I have\",\n",
    "  \"isn't\": \"is not\",\n",
    "  \"it'd\": \"it had\",\n",
    "  \"it'd've\": \"it would have\",\n",
    "  \"it'll\": \"it will\",\n",
    "  \"it'll've\": \"it will have\",\n",
    "  \"it's\": \"it is\",\n",
    "  \"let's\": \"let us\",\n",
    "  \"ma'am\": \"madam\",\n",
    "  \"mayn't\": \"may not\",\n",
    "  \"might've\": \"might have\",\n",
    "  \"mightn't\": \"might not\",\n",
    "  \"mightn't've\": \"might not have\",\n",
    "  \"must've\": \"must have\",\n",
    "  \"mustn't\": \"must not\",\n",
    "  \"mustn't've\": \"must not have\",\n",
    "  \"needn't\": \"need not\",\n",
    "  \"needn't've\": \"need not have\",\n",
    "  \"o'clock\": \"of the clock\",\n",
    "  \"oughtn't\": \"ought not\",\n",
    "  \"oughtn't've\": \"ought not have\",\n",
    "  \"shan't\": \"shall not\",\n",
    "  \"sha'n't\": \"shall not\",\n",
    "  \"shan't've\": \"shall not have\",\n",
    "  \"she'd\": \"she would\",\n",
    "  \"she'd've\": \"she would have\",\n",
    "  \"she'll\": \"she will\",\n",
    "  \"she'll've\": \"she will have\",\n",
    "  \"she's\": \"she is\",\n",
    "  \"should've\": \"should have\",\n",
    "  \"shouldn't\": \"should not\",\n",
    "  \"shouldn't've\": \"should not have\",\n",
    "  \"so've\": \"so have\",\n",
    "  \"so's\": \"so is\",\n",
    "  \"that'd\": \"that would\",\n",
    "  \"that'd've\": \"that would have\",\n",
    "  \"that's\": \"that is\",\n",
    "  \"there'd\": \"there had\",\n",
    "  \"there'd've\": \"there would have\",\n",
    "  \"there's\": \"there is\",\n",
    "  \"they'd\": \"they would\",\n",
    "  \"they'd've\": \"they would have\",\n",
    "  \"they'll\": \"they will\",\n",
    "  \"they'll've\": \"they will have\",\n",
    "  \"they're\": \"they are\",\n",
    "  \"they've\": \"they have\",\n",
    "  \"to've\": \"to have\",\n",
    "  \"wasn't\": \"was not\",\n",
    "  \"we'd\": \"we had\",\n",
    "  \"we'd've\": \"we would have\",\n",
    "  \"we'll\": \"we will\",\n",
    "  \"we'll've\": \"we will have\",\n",
    "  \"we're\": \"we are\",\n",
    "  \"we've\": \"we have\",\n",
    "  \"weren't\": \"were not\",\n",
    "  \"what'll\": \"what will\",\n",
    "  \"what'll've\": \"what will have\",\n",
    "  \"what're\": \"what are\",\n",
    "  \"what's\": \"what is\",\n",
    "  \"what've\": \"what have\",\n",
    "  \"when's\": \"when is\",\n",
    "  \"when've\": \"when have\",\n",
    "  \"where'd\": \"where did\",\n",
    "  \"where's\": \"where is\",\n",
    "  \"where've\": \"where have\",\n",
    "  \"who'll\": \"who will\",\n",
    "  \"who'll've\": \"who will have\",\n",
    "  \"who's\": \"who is\",\n",
    "  \"who've\": \"who have\",\n",
    "  \"why's\": \"why is\",\n",
    "  \"why've\": \"why have\",\n",
    "  \"will've\": \"will have\",\n",
    "  \"won't\": \"will not\",\n",
    "  \"won't've\": \"will not have\",\n",
    "  \"would've\": \"would have\",\n",
    "  \"wouldn't\": \"would not\",\n",
    "  \"wouldn't've\": \"would not have\",\n",
    "  \"y'all\": \"you all\",\n",
    "  \"y'alls\": \"you alls\",\n",
    "  \"y'all'd\": \"you all would\",\n",
    "  \"y'all'd've\": \"you all would have\",\n",
    "  \"y'all're\": \"you all are\",\n",
    "  \"y'all've\": \"you all have\",\n",
    "  \"you'd\": \"you had\",\n",
    "  \"you'd've\": \"you would have\",\n",
    "  \"you'll\": \"you you will\",\n",
    "  \"you'll've\": \"you you will have\",\n",
    "  \"you're\": \"you are\",\n",
    "  \"you've\": \"you have\"\n",
    "}\n",
    "\n",
    "c_re = re.compile('(%s)' % '|'.join(cList.keys()))\n",
    "\n",
    "def expandContractions(text, c_re=c_re):\n",
    "    def replace(match):\n",
    "        return cList[match.group(0)]\n",
    "    return c_re.sub(replace, text)"
   ]
  },
  {
   "cell_type": "code",
   "execution_count": 35,
   "id": "d1e4a796",
   "metadata": {},
   "outputs": [],
   "source": [
    "## Function to perform stepwise cleaning process\n",
    "def tweets_cleaner(tweets):\n",
    "  cleaned_tweets = []\n",
    "  for tweet in tweets:\n",
    "    tweet = tweet.lower() #lowercase\n",
    "    \n",
    "    # if url links then don't append to avoid news articles\n",
    "    # also check tweet length, save those > 5 \n",
    "    if re.match(\"(\\w+:\\/\\/\\S+)\", tweet) == None and len(tweet) > 5:\n",
    "    \n",
    "      #remove hashtag, @mention, emoji and image URLs\n",
    "      tweet = ' '.join(re.sub(\"(@[A-Za-z0-9]+)|(\\#[A-Za-z0-9]+)|(<Emoji:.*>)|(pic\\.twitter\\.com\\/.*)\", \" \", tweet).split())\n",
    "\n",
    "      #fix weirdly encoded texts\n",
    "      tweet = ftfy.fix_text(tweet)\n",
    "\n",
    "      #expand contraction\n",
    "      tweet = expandContractions(tweet)\n",
    "\n",
    "\n",
    "      #remove punctuation\n",
    "      tweet = ' '.join(re.sub(\"([^0-9A-Za-z \\t])\", \" \", tweet).split())\n",
    "\n",
    "      #stop words and lemmatization\n",
    "      stop_words = set(stopwords.words('english'))\n",
    "      word_tokens = nltk.word_tokenize(tweet)\n",
    "\n",
    "      lemmatizer=WordNetLemmatizer()\n",
    "      filtered_sentence = [lemmatizer.lemmatize(word) for word in word_tokens if not word in stop_words]\n",
    "      # back to string from list\n",
    "      tweet = ' '.join(filtered_sentence) # join words with a space in between them\n",
    "\n",
    "      cleaned_tweets.append(tweet)\n",
    "\n",
    "  return cleaned_tweets"
   ]
  },
  {
   "cell_type": "markdown",
   "id": "8f341d1d",
   "metadata": {},
   "source": [
    "## Analysis Data"
   ]
  },
  {
   "cell_type": "code",
   "execution_count": 39,
   "id": "c419b494",
   "metadata": {},
   "outputs": [
    {
     "data": {
      "text/plain": [
       "<AxesSubplot:xlabel='label', ylabel='count'>"
      ]
     },
     "execution_count": 39,
     "metadata": {},
     "output_type": "execute_result"
    },
    {
     "data": {
      "image/png": "[encoded data removed]",
      "text/plain": [
       "<Figure size 432x288 with 1 Axes>"
      ]
     },
     "metadata": {
      "needs_background": "light"
     },
     "output_type": "display_data"
    }
   ],
   "source": [
    " sns.countplot(x='label', data=df_all, palette='hls')"
   ]
  },
  {
   "cell_type": "markdown",
   "id": "33bc4b42",
   "metadata": {},
   "source": [
    "Depreesive and random (Non-depressive) tweets are almost evenly distributed."
   ]
  },
  {
   "cell_type": "code",
   "execution_count": 40,
   "id": "cf46a4d9",
   "metadata": {},
   "outputs": [
    {
     "data": {
      "image/png": "[encoded data removed]",
      "text/plain": [
       "<Figure size 432x288 with 1 Axes>"
      ]
     },
     "metadata": {
      "needs_background": "light"
     },
     "output_type": "display_data"
    }
   ],
   "source": [
    "dep_line_lengths = [len(statement) for statement in new_dep_df['text']]\n",
    "plt.plot(dep_line_lengths)\n",
    "plt.show()"
   ]
  },
  {
   "cell_type": "code",
   "execution_count": 41,
   "id": "24b0cdef",
   "metadata": {},
   "outputs": [
    {
     "data": {
      "image/png": "[encoded data removed]",
      "text/plain": [
       "<Figure size 432x288 with 1 Axes>"
      ]
     },
     "metadata": {
      "needs_background": "light"
     },
     "output_type": "display_data"
    }
   ],
   "source": [
    "\n",
    "rand_line_lengths = [len(statement) for statement in new_df['text']]\n",
    "plt.plot(dep_line_lengths)\n",
    "plt.show()"
   ]
  },
  {
   "cell_type": "markdown",
   "id": "7ca258e3",
   "metadata": {},
   "source": [
    "From the distributions above, it is clear that there is no outliers in our depressive and random datasets."
   ]
  },
  {
   "cell_type": "markdown",
   "id": "e7465958",
   "metadata": {},
   "source": [
    "## Cleaning combined dataset and save it"
   ]
  },
  {
   "cell_type": "code",
   "execution_count": 42,
   "id": "1ab11a49",
   "metadata": {},
   "outputs": [],
   "source": [
    "\n",
    "tweets_arr = [x for x in df_all['text']]"
   ]
  },
  {
   "cell_type": "code",
   "execution_count": 43,
   "id": "ed3fca8a",
   "metadata": {},
   "outputs": [],
   "source": [
    "corpus = tweets_cleaner(tweets_arr)"
   ]
  },
  {
   "cell_type": "code",
   "execution_count": 44,
   "id": "72954bbb",
   "metadata": {},
   "outputs": [],
   "source": [
    "## Adding clean tweets as a new column\n",
    "df_all['clean_text'] = corpus"
   ]
  },
  {
   "cell_type": "code",
   "execution_count": 46,
   "id": "e937b3be",
   "metadata": {},
   "outputs": [
    {
     "data": {
      "text/html": [
       "<div>\n",
       "<style scoped>\n",
       "    .dataframe tbody tr th:only-of-type {\n",
       "        vertical-align: middle;\n",
       "    }\n",
       "\n",
       "    .dataframe tbody tr th {\n",
       "        vertical-align: top;\n",
       "    }\n",
       "\n",
       "    .dataframe thead th {\n",
       "        text-align: right;\n",
       "    }\n",
       "</style>\n",
       "<table border=\"1\" class=\"dataframe\">\n",
       "  <thead>\n",
       "    <tr style=\"text-align: right;\">\n",
       "      <th></th>\n",
       "      <th>text</th>\n",
       "      <th>label</th>\n",
       "      <th>clean_text</th>\n",
       "    </tr>\n",
       "  </thead>\n",
       "  <tbody>\n",
       "    <tr>\n",
       "      <th>0</th>\n",
       "      <td>Open discussion. Between the Transfer Portal a...</td>\n",
       "      <td>1</td>\n",
       "      <td>open discussion transfer portal nil become obs...</td>\n",
       "    </tr>\n",
       "    <tr>\n",
       "      <th>1</th>\n",
       "      <td>Plenty of things are changing in my life and t...</td>\n",
       "      <td>1</td>\n",
       "      <td>plenty thing changing life life around one thi...</td>\n",
       "    </tr>\n",
       "    <tr>\n",
       "      <th>2</th>\n",
       "      <td>I feel a little hopeless. Anyone else? #hopele...</td>\n",
       "      <td>1</td>\n",
       "      <td>feel little hopeless anyone else</td>\n",
       "    </tr>\n",
       "    <tr>\n",
       "      <th>3</th>\n",
       "      <td>Which is more healthy? Hope, or hopelessness? ...</td>\n",
       "      <td>1</td>\n",
       "      <td>healthy hope hopelessness</td>\n",
       "    </tr>\n",
       "    <tr>\n",
       "      <th>4</th>\n",
       "      <td>So someone tell me how do I get over #HOPELESS...</td>\n",
       "      <td>1</td>\n",
       "      <td>someone tell get live world surrounded people ...</td>\n",
       "    </tr>\n",
       "    <tr>\n",
       "      <th>...</th>\n",
       "      <td>...</td>\n",
       "      <td>...</td>\n",
       "      <td>...</td>\n",
       "    </tr>\n",
       "    <tr>\n",
       "      <th>39137</th>\n",
       "      <td>@andreaj27 well, cheers. i have a glass of wat...</td>\n",
       "      <td>0</td>\n",
       "      <td>well cheer glass water handy drink cheer</td>\n",
       "    </tr>\n",
       "    <tr>\n",
       "      <th>39138</th>\n",
       "      <td>@AndreaJo84 Is that right? You're over in Palm...</td>\n",
       "      <td>0</td>\n",
       "      <td>right palm spring guess see local news still w...</td>\n",
       "    </tr>\n",
       "    <tr>\n",
       "      <th>39139</th>\n",
       "      <td>@AndreaKobayashi It's the best cafe in Asakusa...</td>\n",
       "      <td>0</td>\n",
       "      <td>best cafe asakusa tokyo small serf best coffee</td>\n",
       "    </tr>\n",
       "    <tr>\n",
       "      <th>39140</th>\n",
       "      <td>@AndreaKoeln heeey! tonight is the night! no s...</td>\n",
       "      <td>0</td>\n",
       "      <td>heeey tonight night sleeping like night loll</td>\n",
       "    </tr>\n",
       "    <tr>\n",
       "      <th>39141</th>\n",
       "      <td>@AmandaFClark it is when you add the hammock</td>\n",
       "      <td>0</td>\n",
       "      <td>add hammock</td>\n",
       "    </tr>\n",
       "  </tbody>\n",
       "</table>\n",
       "<p>39142 rows × 3 columns</p>\n",
       "</div>"
      ],
      "text/plain": [
       "                                                    text  label  \\\n",
       "0      Open discussion. Between the Transfer Portal a...      1   \n",
       "1      Plenty of things are changing in my life and t...      1   \n",
       "2      I feel a little hopeless. Anyone else? #hopele...      1   \n",
       "3      Which is more healthy? Hope, or hopelessness? ...      1   \n",
       "4      So someone tell me how do I get over #HOPELESS...      1   \n",
       "...                                                  ...    ...   \n",
       "39137  @andreaj27 well, cheers. i have a glass of wat...      0   \n",
       "39138  @AndreaJo84 Is that right? You're over in Palm...      0   \n",
       "39139  @AndreaKobayashi It's the best cafe in Asakusa...      0   \n",
       "39140  @AndreaKoeln heeey! tonight is the night! no s...      0   \n",
       "39141      @AmandaFClark it is when you add the hammock       0   \n",
       "\n",
       "                                              clean_text  \n",
       "0      open discussion transfer portal nil become obs...  \n",
       "1      plenty thing changing life life around one thi...  \n",
       "2                       feel little hopeless anyone else  \n",
       "3                              healthy hope hopelessness  \n",
       "4      someone tell get live world surrounded people ...  \n",
       "...                                                  ...  \n",
       "39137           well cheer glass water handy drink cheer  \n",
       "39138  right palm spring guess see local news still w...  \n",
       "39139     best cafe asakusa tokyo small serf best coffee  \n",
       "39140       heeey tonight night sleeping like night loll  \n",
       "39141                                        add hammock  \n",
       "\n",
       "[39142 rows x 3 columns]"
      ]
     },
     "execution_count": 46,
     "metadata": {},
     "output_type": "execute_result"
    }
   ],
   "source": [
    "df_all"
   ]
  },
  {
   "cell_type": "code",
   "execution_count": 45,
   "id": "5326d0dc",
   "metadata": {},
   "outputs": [],
   "source": [
    "\n",
    "# replace field that's entirely space (or empty) with NaN\n",
    "df_all.replace(r'^\\s*$', np.nan, regex=True, inplace=True)"
   ]
  },
  {
   "cell_type": "code",
   "execution_count": 47,
   "id": "c7cec1ee",
   "metadata": {},
   "outputs": [
    {
     "data": {
      "text/html": [
       "<div>\n",
       "<style scoped>\n",
       "    .dataframe tbody tr th:only-of-type {\n",
       "        vertical-align: middle;\n",
       "    }\n",
       "\n",
       "    .dataframe tbody tr th {\n",
       "        vertical-align: top;\n",
       "    }\n",
       "\n",
       "    .dataframe thead th {\n",
       "        text-align: right;\n",
       "    }\n",
       "</style>\n",
       "<table border=\"1\" class=\"dataframe\">\n",
       "  <thead>\n",
       "    <tr style=\"text-align: right;\">\n",
       "      <th></th>\n",
       "      <th>text</th>\n",
       "      <th>label</th>\n",
       "      <th>clean_text</th>\n",
       "    </tr>\n",
       "  </thead>\n",
       "  <tbody>\n",
       "    <tr>\n",
       "      <th>67</th>\n",
       "      <td>You are there for them, but they are not there...</td>\n",
       "      <td>1</td>\n",
       "      <td>NaN</td>\n",
       "    </tr>\n",
       "    <tr>\n",
       "      <th>881</th>\n",
       "      <td>Why me? \\n\\n#depression #depressed #sad #cry #...</td>\n",
       "      <td>1</td>\n",
       "      <td>NaN</td>\n",
       "    </tr>\n",
       "    <tr>\n",
       "      <th>1142</th>\n",
       "      <td>that’s IT! i’m #depressed</td>\n",
       "      <td>1</td>\n",
       "      <td>NaN</td>\n",
       "    </tr>\n",
       "    <tr>\n",
       "      <th>2037</th>\n",
       "      <td>When your #anxiety has #anxiety 😖</td>\n",
       "      <td>1</td>\n",
       "      <td>NaN</td>\n",
       "    </tr>\n",
       "    <tr>\n",
       "      <th>5073</th>\n",
       "      <td>I have #anxiety</td>\n",
       "      <td>1</td>\n",
       "      <td>NaN</td>\n",
       "    </tr>\n",
       "    <tr>\n",
       "      <th>...</th>\n",
       "      <td>...</td>\n",
       "      <td>...</td>\n",
       "      <td>...</td>\n",
       "    </tr>\n",
       "    <tr>\n",
       "      <th>38624</th>\n",
       "      <td>@amyserrata  i can do that</td>\n",
       "      <td>0</td>\n",
       "      <td>NaN</td>\n",
       "    </tr>\n",
       "    <tr>\n",
       "      <th>38730</th>\n",
       "      <td>@anaggh</td>\n",
       "      <td>0</td>\n",
       "      <td>NaN</td>\n",
       "    </tr>\n",
       "    <tr>\n",
       "      <th>38947</th>\n",
       "      <td>@ancesmulles so. when?</td>\n",
       "      <td>0</td>\n",
       "      <td>NaN</td>\n",
       "    </tr>\n",
       "    <tr>\n",
       "      <th>38949</th>\n",
       "      <td>@AnchMorpork ?? ??? ??????? ???????????? &amp;quot...</td>\n",
       "      <td>0</td>\n",
       "      <td>NaN</td>\n",
       "    </tr>\n",
       "    <tr>\n",
       "      <th>39111</th>\n",
       "      <td>@AmandaChalmers i do</td>\n",
       "      <td>0</td>\n",
       "      <td>NaN</td>\n",
       "    </tr>\n",
       "  </tbody>\n",
       "</table>\n",
       "<p>233 rows × 3 columns</p>\n",
       "</div>"
      ],
      "text/plain": [
       "                                                    text  label clean_text\n",
       "67     You are there for them, but they are not there...      1        NaN\n",
       "881    Why me? \\n\\n#depression #depressed #sad #cry #...      1        NaN\n",
       "1142                           that’s IT! i’m #depressed      1        NaN\n",
       "2037                   When your #anxiety has #anxiety 😖      1        NaN\n",
       "5073                                     I have #anxiety      1        NaN\n",
       "...                                                  ...    ...        ...\n",
       "38624                        @amyserrata  i can do that       0        NaN\n",
       "38730                                           @anaggh       0        NaN\n",
       "38947                            @ancesmulles so. when?       0        NaN\n",
       "38949  @AnchMorpork ?? ??? ??????? ???????????? &quot...      0        NaN\n",
       "39111                              @AmandaChalmers i do       0        NaN\n",
       "\n",
       "[233 rows x 3 columns]"
      ]
     },
     "execution_count": 47,
     "metadata": {},
     "output_type": "execute_result"
    }
   ],
   "source": [
    "\n",
    "df_all[df_all['clean_text'].isnull()]"
   ]
  },
  {
   "cell_type": "code",
   "execution_count": 48,
   "id": "c246ba13",
   "metadata": {},
   "outputs": [],
   "source": [
    "\n",
    "## Deleting the rows with nan \n",
    "df_all.dropna(subset=['clean_text'], inplace=True)"
   ]
  },
  {
   "cell_type": "code",
   "execution_count": 50,
   "id": "ef8988f5",
   "metadata": {},
   "outputs": [
    {
     "data": {
      "text/html": [
       "<div>\n",
       "<style scoped>\n",
       "    .dataframe tbody tr th:only-of-type {\n",
       "        vertical-align: middle;\n",
       "    }\n",
       "\n",
       "    .dataframe tbody tr th {\n",
       "        vertical-align: top;\n",
       "    }\n",
       "\n",
       "    .dataframe thead th {\n",
       "        text-align: right;\n",
       "    }\n",
       "</style>\n",
       "<table border=\"1\" class=\"dataframe\">\n",
       "  <thead>\n",
       "    <tr style=\"text-align: right;\">\n",
       "      <th></th>\n",
       "      <th>text</th>\n",
       "      <th>label</th>\n",
       "      <th>clean_text</th>\n",
       "    </tr>\n",
       "  </thead>\n",
       "  <tbody>\n",
       "  </tbody>\n",
       "</table>\n",
       "</div>"
      ],
      "text/plain": [
       "Empty DataFrame\n",
       "Columns: [text, label, clean_text]\n",
       "Index: []"
      ]
     },
     "execution_count": 50,
     "metadata": {},
     "output_type": "execute_result"
    }
   ],
   "source": [
    "\n",
    "## check for nan\n",
    "df_all[df_all['clean_text'].isnull()]"
   ]
  },
  {
   "cell_type": "code",
   "execution_count": 51,
   "id": "05659381",
   "metadata": {},
   "outputs": [],
   "source": [
    "## Save cleaned_dataset\n",
    "df_all.to_csv('clean_data.csv',\n",
    "              sep='\\t', encoding='utf-8',index=False)\n",
    "     "
   ]
  },
  {
   "cell_type": "code",
   "execution_count": null,
   "id": "6f8bf6f6",
   "metadata": {},
   "outputs": [],
   "source": []
  }
 ],
 "metadata": {
  "kernelspec": {
   "display_name": "Python 3 (ipykernel)",
   "language": "python",
   "name": "python3"
  },
  "language_info": {
   "codemirror_mode": {
    "name": "ipython",
    "version": 3
   },
   "file_extension": ".py",
   "mimetype": "text/x-python",
   "name": "python",
   "nbconvert_exporter": "python",
   "pygments_lexer": "ipython3",
   "version": "3.9.7"
  }
 },
 "nbformat": 4,
 "nbformat_minor": 5
}
