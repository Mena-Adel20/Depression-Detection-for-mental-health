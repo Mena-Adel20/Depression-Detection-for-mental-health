{
 "cells": [
  {
   "cell_type": "code",
   "execution_count": 1,
   "id": "10a88993",
   "metadata": {},
   "outputs": [
    {
     "name": "stderr",
     "output_type": "stream",
     "text": [
      "[nltk_data] Downloading package stopwords to\n",
      "[nltk_data]     C:\\Users\\otaku7\\AppData\\Roaming\\nltk_data...\n",
      "[nltk_data]   Package stopwords is already up-to-date!\n",
      "[nltk_data] Downloading package punkt to\n",
      "[nltk_data]     C:\\Users\\otaku7\\AppData\\Roaming\\nltk_data...\n",
      "[nltk_data]   Package punkt is already up-to-date!\n",
      "[nltk_data] Downloading package wordnet to\n",
      "[nltk_data]     C:\\Users\\otaku7\\AppData\\Roaming\\nltk_data...\n",
      "[nltk_data]   Package wordnet is already up-to-date!\n",
      "[nltk_data] Downloading package averaged_perceptron_tagger to\n",
      "[nltk_data]     C:\\Users\\otaku7\\AppData\\Roaming\\nltk_data...\n",
      "[nltk_data]   Package averaged_perceptron_tagger is already up-to-\n",
      "[nltk_data]       date!\n"
     ]
    }
   ],
   "source": [
    "## warnings\n",
    "import warnings\n",
    "warnings.filterwarnings(\"ignore\")\n",
    "\n",
    "## for data\n",
    "import numpy as np\n",
    "import pandas as pd\n",
    "\n",
    "## for plotting\n",
    "import matplotlib.pyplot as plt\n",
    "import seaborn as sns\n",
    "\n",
    "## Bag of Words\n",
    "from sklearn.feature_extraction.text import CountVectorizer\n",
    "\n",
    "## TF-IDF \n",
    "from sklearn.feature_extraction.text import TfidfVectorizer\n",
    "\n",
    "## Train-Test Split\n",
    "from sklearn.model_selection import train_test_split\n",
    "\n",
    "## for processing\n",
    "import nltk\n",
    "import re\n",
    "import ftfy\n",
    "from nltk.stem import WordNetLemmatizer \n",
    "from nltk.corpus import stopwords\n",
    "nltk.download('stopwords')\n",
    "nltk.download('punkt')\n",
    "nltk.download('wordnet')\n",
    "nltk.download('averaged_perceptron_tagger')\n",
    "\n",
    "## Feature selection\n",
    "from sklearn import feature_selection\n",
    "\n",
    "## Support vector machine\n",
    "from sklearn.pipeline import Pipeline\n",
    "import sklearn.metrics as skm\n",
    "from sklearn.metrics import confusion_matrix, accuracy_score\n",
    "from sklearn.svm import SVC\n",
    "\n",
    "## for saving and loading model\n",
    "import pickle\n",
    "\n",
    "## for word embedding with Spacy\n",
    "import spacy\n",
    "import en_core_web_lg\n"
   ]
  },
  {
   "cell_type": "code",
   "execution_count": 2,
   "id": "d381b6a7",
   "metadata": {},
   "outputs": [],
   "source": [
    "# Expand Contraction\n",
    "cList = {\n",
    "  \"ain't\": \"am not\",\n",
    "  \"aren't\": \"are not\",\n",
    "  \"can't\": \"cannot\",\n",
    "  \"can't've\": \"cannot have\",\n",
    "  \"'cause\": \"because\",\n",
    "  \"could've\": \"could have\",\n",
    "  \"couldn't\": \"could not\",\n",
    "  \"couldn't've\": \"could not have\",\n",
    "  \"didn't\": \"did not\",\n",
    "  \"doesn't\": \"does not\",\n",
    "  \"don't\": \"do not\",\n",
    "  \"hadn't\": \"had not\",\n",
    "  \"hadn't've\": \"had not have\",\n",
    "  \"hasn't\": \"has not\",\n",
    "  \"haven't\": \"have not\",\n",
    "  \"he'd\": \"he would\",\n",
    "  \"he'd've\": \"he would have\",\n",
    "  \"he'll\": \"he will\",\n",
    "  \"he'll've\": \"he will have\",\n",
    "  \"he's\": \"he is\",\n",
    "  \"how'd\": \"how did\",\n",
    "  \"how'd'y\": \"how do you\",\n",
    "  \"how'll\": \"how will\",\n",
    "  \"how's\": \"how is\",\n",
    "  \"I'd\": \"I would\",\n",
    "  \"I'd've\": \"I would have\",\n",
    "  \"I'll\": \"I will\",\n",
    "  \"I'll've\": \"I will have\",\n",
    "  \"I'm\": \"I am\",\n",
    "  \"I've\": \"I have\",\n",
    "  \"isn't\": \"is not\",\n",
    "  \"it'd\": \"it had\",\n",
    "  \"it'd've\": \"it would have\",\n",
    "  \"it'll\": \"it will\",\n",
    "  \"it'll've\": \"it will have\",\n",
    "  \"it's\": \"it is\",\n",
    "  \"let's\": \"let us\",\n",
    "  \"ma'am\": \"madam\",\n",
    "  \"mayn't\": \"may not\",\n",
    "  \"might've\": \"might have\",\n",
    "  \"mightn't\": \"might not\",\n",
    "  \"mightn't've\": \"might not have\",\n",
    "  \"must've\": \"must have\",\n",
    "  \"mustn't\": \"must not\",\n",
    "  \"mustn't've\": \"must not have\",\n",
    "  \"needn't\": \"need not\",\n",
    "  \"needn't've\": \"need not have\",\n",
    "  \"o'clock\": \"of the clock\",\n",
    "  \"oughtn't\": \"ought not\",\n",
    "  \"oughtn't've\": \"ought not have\",\n",
    "  \"shan't\": \"shall not\",\n",
    "  \"sha'n't\": \"shall not\",\n",
    "  \"shan't've\": \"shall not have\",\n",
    "  \"she'd\": \"she would\",\n",
    "  \"she'd've\": \"she would have\",\n",
    "  \"she'll\": \"she will\",\n",
    "  \"she'll've\": \"she will have\",\n",
    "  \"she's\": \"she is\",\n",
    "  \"should've\": \"should have\",\n",
    "  \"shouldn't\": \"should not\",\n",
    "  \"shouldn't've\": \"should not have\",\n",
    "  \"so've\": \"so have\",\n",
    "  \"so's\": \"so is\",\n",
    "  \"that'd\": \"that would\",\n",
    "  \"that'd've\": \"that would have\",\n",
    "  \"that's\": \"that is\",\n",
    "  \"there'd\": \"there had\",\n",
    "  \"there'd've\": \"there would have\",\n",
    "  \"there's\": \"there is\",\n",
    "  \"they'd\": \"they would\",\n",
    "  \"they'd've\": \"they would have\",\n",
    "  \"they'll\": \"they will\",\n",
    "  \"they'll've\": \"they will have\",\n",
    "  \"they're\": \"they are\",\n",
    "  \"they've\": \"they have\",\n",
    "  \"to've\": \"to have\",\n",
    "  \"wasn't\": \"was not\",\n",
    "  \"we'd\": \"we had\",\n",
    "  \"we'd've\": \"we would have\",\n",
    "  \"we'll\": \"we will\",\n",
    "  \"we'll've\": \"we will have\",\n",
    "  \"we're\": \"we are\",\n",
    "  \"we've\": \"we have\",\n",
    "  \"weren't\": \"were not\",\n",
    "  \"what'll\": \"what will\",\n",
    "  \"what'll've\": \"what will have\",\n",
    "  \"what're\": \"what are\",\n",
    "  \"what's\": \"what is\",\n",
    "  \"what've\": \"what have\",\n",
    "  \"when's\": \"when is\",\n",
    "  \"when've\": \"when have\",\n",
    "  \"where'd\": \"where did\",\n",
    "  \"where's\": \"where is\",\n",
    "  \"where've\": \"where have\",\n",
    "  \"who'll\": \"who will\",\n",
    "  \"who'll've\": \"who will have\",\n",
    "  \"who's\": \"who is\",\n",
    "  \"who've\": \"who have\",\n",
    "  \"why's\": \"why is\",\n",
    "  \"why've\": \"why have\",\n",
    "  \"will've\": \"will have\",\n",
    "  \"won't\": \"will not\",\n",
    "  \"won't've\": \"will not have\",\n",
    "  \"would've\": \"would have\",\n",
    "  \"wouldn't\": \"would not\",\n",
    "  \"wouldn't've\": \"would not have\",\n",
    "  \"y'all\": \"you all\",\n",
    "  \"y'alls\": \"you alls\",\n",
    "  \"y'all'd\": \"you all would\",\n",
    "  \"y'all'd've\": \"you all would have\",\n",
    "  \"y'all're\": \"you all are\",\n",
    "  \"y'all've\": \"you all have\",\n",
    "  \"you'd\": \"you had\",\n",
    "  \"you'd've\": \"you would have\",\n",
    "  \"you'll\": \"you you will\",\n",
    "  \"you'll've\": \"you you will have\",\n",
    "  \"you're\": \"you are\",\n",
    "  \"you've\": \"you have\"\n",
    "}\n",
    "\n",
    "c_re = re.compile('(%s)' % '|'.join(cList.keys()))\n",
    "\n",
    "def expandContractions(text, c_re=c_re):\n",
    "    def replace(match):\n",
    "        return cList[match.group(0)]\n",
    "    return c_re.sub(replace, text)"
   ]
  },
  {
   "cell_type": "code",
   "execution_count": 3,
   "id": "52232d55",
   "metadata": {},
   "outputs": [],
   "source": [
    "def tokenize_sentece(t):\n",
    "    # Define the number of words per substring\n",
    "    words_per_slice = 7\n",
    "\n",
    "    # Split the string into words\n",
    "    words = t.split()\n",
    "\n",
    "    # Use a list comprehension to group words into substrings\n",
    "    sliced_strings = [' '.join(words[i:i + words_per_slice]) for i in range(0, len(words), words_per_slice)]\n",
    "\n",
    "    # Check if the last string has fewer words than the specified 'words_per_slice'\n",
    "    if len(words) % words_per_slice != 0:\n",
    "        # If yes, append it to the previous string in the array with a space\n",
    "        sliced_strings[-2] += ' ' + ' '.join(words[-(len(words) % words_per_slice):])\n",
    "        # Remove the last element from the array\n",
    "        sliced_strings.pop()\n",
    "\n",
    "    # Print the result\n",
    "    return sliced_strings"
   ]
  },
  {
   "cell_type": "code",
   "execution_count": 4,
   "id": "1f2140a0",
   "metadata": {},
   "outputs": [],
   "source": [
    "## Function to perform stepwise cleaning process\n",
    "def text_cleaner(tweet):\n",
    "\n",
    "    cleaned_tweets = []\n",
    "    tweet = tweet.lower() #lowercase\n",
    "    \n",
    "    # if url links then don't append to avoid news articles\n",
    "    # also check tweet length, save those > 5 \n",
    "    if re.match(\"(\\w+:\\/\\/\\S+)\", tweet) == None and len(tweet) > 5:\n",
    "    \n",
    "        #remove hashtag, @mention, emoji and image URLs\n",
    "        tweet = ' '.join(re.sub(\"(@[A-Za-z0-9]+)|(\\#[A-Za-z0-9]+)|(<.>)|(pic\\.twitter\\.com\\/.*)\", \" \", tweet).split())\n",
    "\n",
    "        #fix weirdly encoded texts\n",
    "        tweet = ftfy.fix_text(tweet)\n",
    "\n",
    "        #expand contraction\n",
    "        tweet = expandContractions(tweet)\n",
    "\n",
    "\n",
    "        #remove punctuation\n",
    "        tweet = ' '.join(re.sub(\"([^0-9A-Za-z \\t])\", \" \", tweet).split())\n",
    "\n",
    "        #stop words and lemmatization\n",
    "        stop_words = set(stopwords.words('english'))\n",
    "        word_tokens = nltk.word_tokenize(tweet)\n",
    "\n",
    "        lemmatizer=WordNetLemmatizer()\n",
    "        filtered_sentence = [lemmatizer.lemmatize(word) for word in word_tokens if not word in stop_words]\n",
    "        # back to string from list\n",
    "        tweet = ' '.join(filtered_sentence) # join words with a space in between them\n",
    "\n",
    "        cleaned_tweets.append(tweet)\n",
    "        \n",
    "\n",
    "    return cleaned_tweets\n",
    "     "
   ]
  },
  {
   "cell_type": "code",
   "execution_count": null,
   "id": "06cb3e6c",
   "metadata": {},
   "outputs": [],
   "source": []
  },
  {
   "cell_type": "code",
   "execution_count": 5,
   "id": "afea9a4c",
   "metadata": {},
   "outputs": [],
   "source": [
    "\n",
    "nlp = en_core_web_lg.load()\n"
   ]
  },
  {
   "cell_type": "code",
   "execution_count": 6,
   "id": "3402122d",
   "metadata": {},
   "outputs": [
    {
     "data": {
      "text/plain": [
       "SVC()"
      ]
     },
     "execution_count": 6,
     "metadata": {},
     "output_type": "execute_result"
    }
   ],
   "source": [
    "with open(\"SVM_model.pkl\", 'rb') as file:  \n",
    "    model = pickle.load(file)\n",
    "\n",
    "model"
   ]
  },
  {
   "cell_type": "code",
   "execution_count": 7,
   "id": "144d553f",
   "metadata": {},
   "outputs": [],
   "source": [
    "def text_processing1(text):\n",
    "    senteces = tokenize_sentece(text)\n",
    "    results=[]\n",
    "    for sentece  in senteces: \n",
    "        corpus = text_cleaner(sentece)\n",
    "        result = pd.np.array([pd.np.array([token.vector for token in nlp(s)]).mean(axis=0) * pd.np.ones((300)) \\\n",
    "                               for s in corpus])\n",
    "        results.append(result)\n",
    "    \n",
    "    return results"
   ]
  },
  {
   "cell_type": "code",
   "execution_count": 8,
   "id": "520f28ac",
   "metadata": {},
   "outputs": [],
   "source": [
    "def predicte(text):\n",
    "    test=text_processing1(text)\n",
    "    dep=0\n",
    "    nondep=0\n",
    "    for sentence in test:\n",
    "        pred = model.predict(sentence)\n",
    "        if pred[0]==1:\n",
    "            dep+=1\n",
    "        else:\n",
    "            nondep+=1\n",
    "    if dep>=nondep:\n",
    "        return 1\n",
    "    else:\n",
    "        return 0\n",
    "    \n",
    "    \n",
    "    "
   ]
  },
  {
   "cell_type": "code",
   "execution_count": 9,
   "id": "65dc8f26",
   "metadata": {},
   "outputs": [],
   "source": [
    "st=\"Today has been another one of those days. I woke up feeling exhausted,even though I slept for what should have been enough hours. Getting out of bed felt like a monumental task, and the thought of facing the day ahead filled me with a sense of dread.I tried to go through the motions, but everything felt gray and joyless. The things that used to bring me happiness now seem distant and unattainable. I can't shake this heavy feeling in my chest. It's like an anchor, pulling me down.I used to enjoy spending time with friends, but lately, the idea of socializing feels like an impossible challenge. It's easier to withdraw, to put on a facade and pretend everything is okay. I don't want anyone to worry about me, but the loneliness is suffocating.\""
   ]
  },
  {
   "cell_type": "code",
   "execution_count": 10,
   "id": "2ea2e229",
   "metadata": {},
   "outputs": [],
   "source": [
    "st2=\"Today was a surprisingly good day! I woke up feeling refreshed and ready to take on whatever challenges came my way. The sun was shining, and there was a crispness in the air that energized me.I decided to try something new for breakfast, and it turned out delicious. It's amazing how a simple change in routine can bring a burst of positivity. Throughout the day, I felt a sense of accomplishment as I tackled my to-do list and even managed to finish a project I'd been working on for a while.During lunch, I took a short walk in the park. The fresh air and nature sounds were incredibly soothing. I noticed the vibrant colors of the flowers and the playfulness of squirrels chasing each other. It's the little things like this that make life beautiful.\""
   ]
  },
  {
   "cell_type": "code",
   "execution_count": 12,
   "id": "c9efdc3e",
   "metadata": {},
   "outputs": [
    {
     "data": {
      "text/plain": [
       "1"
      ]
     },
     "execution_count": 12,
     "metadata": {},
     "output_type": "execute_result"
    }
   ],
   "source": [
    "predicte(st)"
   ]
  },
  {
   "cell_type": "markdown",
   "id": "4df31dfb",
   "metadata": {},
   "source": [
    "Today was a surprisingly good day! I woke up feeling refreshed and ready to take on whatever challenges came my way. The sun was shining, and there was a crispness in the air that energized me.I decided to try something new for breakfast, and it turned out delicious. It's amazing how a simple change in routine can bring a burst of positivity. Throughout the day, I felt a sense of accomplishment as I tackled my to-do list and even managed to finish a project I'd been working on for a while.During lunch, I took a short walk in the park. The fresh air and nature sounds were incredibly soothing. I noticed the vibrant colors of the flowers and the playfulness of squirrels chasing each other. It's the little things like this that make life beautiful."
   ]
  },
  {
   "cell_type": "markdown",
   "id": "4312dbad",
   "metadata": {},
   "source": [
    "I catch myself overthinking everything, even the smallest decisions. Doubt and self-criticism are my constant companions. No matter how hard I try, it feels like I'm never doing well enough."
   ]
  },
  {
   "cell_type": "code",
   "execution_count": 36,
   "id": "6f1e856c",
   "metadata": {},
   "outputs": [],
   "source": [
    "test=text_processing1(\"Today has been another one of those days. I woke up feeling exhausted, even though I slept for what should have been enough hours. Getting out of bed felt like a monumental task, and the thought of facing the day ahead filled me with a sense of dread.I tried to go through the motions, but everything felt gray and joyless. The things that used to bring me happiness now seem distant and unattainable. I can't shake this heavy feeling in my chest. It's like an anchor, pulling me down.I used to enjoy spending time with friends, but lately, the idea of socializing feels like an impossible challenge. It's easier to withdraw, to put on a facade and pretend everything is okay. I don't want anyone to worry about me, but the loneliness is suffocating.\")"
   ]
  },
  {
   "cell_type": "code",
   "execution_count": 38,
   "id": "46d15178",
   "metadata": {},
   "outputs": [
    {
     "data": {
      "text/plain": [
       "19"
      ]
     },
     "execution_count": 38,
     "metadata": {},
     "output_type": "execute_result"
    }
   ],
   "source": [
    "len(test)"
   ]
  },
  {
   "cell_type": "code",
   "execution_count": 39,
   "id": "37ada21d",
   "metadata": {},
   "outputs": [
    {
     "name": "stdout",
     "output_type": "stream",
     "text": [
      "1\n",
      "1\n",
      "0\n",
      "1\n",
      "1\n",
      "1\n",
      "1\n",
      "1\n",
      "1\n",
      "1\n",
      "1\n",
      "1\n",
      "0\n",
      "0\n",
      "1\n",
      "1\n",
      "1\n",
      "1\n",
      "1\n"
     ]
    }
   ],
   "source": [
    "for sentence in test:\n",
    "    pred = model.predict(sentence)\n",
    "    print(pred[0])"
   ]
  },
  {
   "cell_type": "code",
   "execution_count": null,
   "id": "e785cf9b",
   "metadata": {},
   "outputs": [],
   "source": []
  },
  {
   "cell_type": "code",
   "execution_count": null,
   "id": "2299c9c9",
   "metadata": {},
   "outputs": [],
   "source": [
    "# Long string\n",
    "long_string = \"Today has been another one of those days. I woke up feeling exhausted, even though I slept for what should have been enough hours. Getting out of bed felt like a monumental task, and the thought of facing the day ahead filled me with a sense of dread.I tried to go through the motions, but everything felt gray and joyless. The things that used to bring me happiness now seem distant and unattainable. I can't shake this heavy feeling in my chest. It's like an anchor, pulling me down,I used to enjoy spending time with friends, but lately, the idea of socializing feels like an impossible challenge. It's easier to withdraw, to put on a facade and pretend everything is okay. I don't want anyone to worry about me, but the loneliness is suffocating.\"\n",
    "# Define the number of words per substring\n",
    "words_per_slice = 7\n",
    "\n",
    "# Split the string into words\n",
    "words = long_string.split()\n",
    "\n",
    "# Use a list comprehension to group words into substrings\n",
    "sliced_strings = [' '.join(words[i:i + words_per_slice]) for i in range(0, len(words), words_per_slice)]\n",
    "\n",
    "# Check if the last string has fewer words than the specified 'words_per_slice'\n",
    "if len(words) % words_per_slice != 0:\n",
    "    # If yes, append it to the previous string in the array with a space\n",
    "    sliced_strings[-2] += ' ' + ' '.join(words[-(len(words) % words_per_slice):])\n",
    "    # Remove the last element from the array\n",
    "    sliced_strings.pop()\n",
    "\n",
    "# Print the result\n",
    "print(sliced_strings)"
   ]
  },
  {
   "cell_type": "code",
   "execution_count": null,
   "id": "45d73132",
   "metadata": {},
   "outputs": [],
   "source": []
  },
  {
   "cell_type": "code",
   "execution_count": null,
   "id": "7829f597",
   "metadata": {},
   "outputs": [],
   "source": []
  },
  {
   "cell_type": "code",
   "execution_count": null,
   "id": "7acb3149",
   "metadata": {},
   "outputs": [],
   "source": []
  }
 ],
 "metadata": {
  "kernelspec": {
   "display_name": "Python 3 (ipykernel)",
   "language": "python",
   "name": "python3"
  },
  "language_info": {
   "codemirror_mode": {
    "name": "ipython",
    "version": 3
   },
   "file_extension": ".py",
   "mimetype": "text/x-python",
   "name": "python",
   "nbconvert_exporter": "python",
   "pygments_lexer": "ipython3",
   "version": "3.9.7"
  }
 },
 "nbformat": 4,
 "nbformat_minor": 5
}
